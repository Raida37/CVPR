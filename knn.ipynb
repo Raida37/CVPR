{
  "nbformat": 4,
  "nbformat_minor": 0,
  "metadata": {
    "colab": {
      "provenance": []
    },
    "kernelspec": {
      "name": "python3",
      "display_name": "Python 3"
    },
    "language_info": {
      "name": "python"
    }
  },
  "cells": [
    {
      "cell_type": "code",
      "execution_count": 12,
      "metadata": {
        "id": "ws4fi2_LHhss"
      },
      "outputs": [],
      "source": [
        "import os\n",
        "import numpy as np\n",
        "from sklearn.model_selection import KFold\n",
        "from sklearn.neighbors import KNeighborsClassifier\n",
        "from sklearn.metrics import accuracy_score, confusion_matrix\n",
        "from PIL import Image\n",
        "import zipfile"
      ]
    },
    {
      "cell_type": "code",
      "source": [
        "dataset_zip_path = \"/content/animals.zip\"\n",
        "dataset_folder = \"/content/animals\"\n"
      ],
      "metadata": {
        "id": "FUaM2CENmJdv"
      },
      "execution_count": 13,
      "outputs": []
    },
    {
      "cell_type": "code",
      "source": [
        "#Unziping the dataset\n",
        "with zipfile.ZipFile(dataset_zip_path, 'r') as zip_ref:\n",
        "    zip_ref.extractall(dataset_folder)\n",
        "\n",
        "#preprocess data\n",
        "def load_images(folder, label, image_size=(32, 32)):\n",
        "    images = []\n",
        "    labels = []\n",
        "    for filename in os.listdir(folder):\n",
        "        filepath = os.path.join(folder, filename)\n",
        "        if filename.endswith(('.png', '.jpg', '.jpeg')):\n",
        "            img = Image.open(filepath).convert('L')\n",
        "            img = img.resize(image_size)\n",
        "            images.append(np.array(img).flatten())\n",
        "            labels.append(label)\n",
        "    return np.array(images), np.array(labels)\n",
        "\n",
        "def load_dataset():\n",
        "    base_folder = dataset_folder\n",
        "    classes = ['cats', 'dogs', 'pandas']\n",
        "    data, labels = [], []\n",
        "\n",
        "    for label, class_name in enumerate(classes):\n",
        "        class_folder = os.path.join(base_folder, class_name)\n",
        "        class_images, class_labels = load_images(class_folder, label)\n",
        "        data.append(class_images)\n",
        "        labels.append(class_labels)\n",
        "\n",
        "    data = np.vstack(data)\n",
        "    labels = np.concatenate(labels)\n",
        "    return data, labels\n",
        "\n",
        "X, y = load_dataset()\n"
      ],
      "metadata": {
        "id": "aBJNAJLTpVoX"
      },
      "execution_count": 14,
      "outputs": []
    },
    {
      "cell_type": "code",
      "source": [
        "#random weights and bias\n",
        "np.random.seed(42)\n",
        "input_dim = X.shape[1]\n",
        "output_dim = 128\n",
        "W = np.random.randn(input_dim, output_dim)\n",
        "b = np.random.randn(output_dim)\n",
        "\n",
        "#Project features\n",
        "X_transformed = X @ W + b"
      ],
      "metadata": {
        "id": "M2w08NEHu4pO"
      },
      "execution_count": 15,
      "outputs": []
    },
    {
      "cell_type": "code",
      "source": [
        "#5-Fold Cross-Validation\n",
        "kf = KFold(n_splits=5, shuffle=True, random_state=42)\n",
        "knn = KNeighborsClassifier(n_neighbors=5, metric='euclidean')  # L1 distance\n",
        "\n",
        "fold_accuracies = []\n",
        "for train_index, val_index in kf.split(X_transformed):\n",
        "    X_train, X_val = X_transformed[train_index], X_transformed[val_index]\n",
        "    y_train, y_val = y[train_index], y[val_index]\n",
        "\n",
        "    #Train kNN\n",
        "    knn.fit(X_train, y_train)\n",
        "\n",
        "    # Validate\n",
        "    y_pred = knn.predict(X_val)\n",
        "    acc = accuracy_score(y_val, y_pred)\n",
        "    fold_accuracies.append(acc)\n",
        "    print(f\"Fold Accuracy: {acc}\")\n"
      ],
      "metadata": {
        "id": "gTOgKisHpQ0K",
        "colab": {
          "base_uri": "https://localhost:8080/"
        },
        "outputId": "9144de17-ab8b-4889-8f41-765f87df17ef"
      },
      "execution_count": 16,
      "outputs": [
        {
          "output_type": "stream",
          "name": "stdout",
          "text": [
            "Fold Accuracy: 0.475\n",
            "Fold Accuracy: 0.425\n",
            "Fold Accuracy: 0.4666666666666667\n",
            "Fold Accuracy: 0.4216666666666667\n",
            "Fold Accuracy: 0.415\n"
          ]
        }
      ]
    },
    {
      "cell_type": "code",
      "source": [
        "# Model evalution\n",
        "print(f\"Average Cross-Validation Accuracy: {np.mean(fold_accuracies)}\")\n"
      ],
      "metadata": {
        "colab": {
          "base_uri": "https://localhost:8080/"
        },
        "id": "5EsLnUbDvagF",
        "outputId": "03f1d13c-e4bf-478d-b6df-c4aa74c92c78"
      },
      "execution_count": 17,
      "outputs": [
        {
          "output_type": "stream",
          "name": "stdout",
          "text": [
            "Average Cross-Validation Accuracy: 0.44066666666666665\n"
          ]
        }
      ]
    }
  ]
}