{
  "cells": [
    {
      "cell_type": "code",
      "source": [
        "from google.colab import drive\n",
        "drive.mount('/content/drive')"
      ],
      "metadata": {
        "id": "oBcMQchiH1jC",
        "colab": {
          "base_uri": "https://localhost:8080/"
        },
        "outputId": "f4129d72-d423-4559-9155-2f2ceac2dcdc"
      },
      "execution_count": 1,
      "outputs": [
        {
          "output_type": "stream",
          "name": "stdout",
          "text": [
            "Mounted at /content/drive\n"
          ]
        }
      ],
      "id": "oBcMQchiH1jC"
    },
    {
      "cell_type": "code",
      "execution_count": 2,
      "id": "04c4de70",
      "metadata": {
        "_cell_guid": "b1076dfc-b9ad-4769-8c92-a6c4dae69d19",
        "_uuid": "8f2839f25d086af736a60e9eeb907d3b93b6e0e5",
        "execution": {
          "iopub.execute_input": "2024-09-26T09:46:55.270068Z",
          "iopub.status.busy": "2024-09-26T09:46:55.269615Z",
          "iopub.status.idle": "2024-09-26T09:46:56.309177Z",
          "shell.execute_reply": "2024-09-26T09:46:56.307465Z"
        },
        "papermill": {
          "duration": 1.050458,
          "end_time": "2024-09-26T09:46:56.312185",
          "exception": false,
          "start_time": "2024-09-26T09:46:55.261727",
          "status": "completed"
        },
        "tags": [],
        "id": "04c4de70"
      },
      "outputs": [],
      "source": [
        "import numpy as np\n",
        "import pandas as pd\n",
        "import os\n",
        "import tensorflow as tf\n",
        "from tensorflow.keras.models import Sequential, load_model\n",
        "from tensorflow.keras.layers import Conv2D, MaxPooling2D, Flatten, Dense, Dropout\n",
        "from tensorflow.keras.utils import to_categorical\n",
        "import matplotlib.pyplot as plt\n",
        "import time"
      ]
    },
    {
      "cell_type": "code",
      "execution_count": 12,
      "id": "f86c6bec",
      "metadata": {
        "execution": {
          "iopub.execute_input": "2024-09-26T09:47:11.124384Z",
          "iopub.status.busy": "2024-09-26T09:47:11.123624Z",
          "iopub.status.idle": "2024-09-26T09:47:12.489841Z",
          "shell.execute_reply": "2024-09-26T09:47:12.488241Z"
        },
        "papermill": {
          "duration": 1.377556,
          "end_time": "2024-09-26T09:47:12.493980",
          "exception": false,
          "start_time": "2024-09-26T09:47:11.116424",
          "status": "completed"
        },
        "tags": [],
        "colab": {
          "base_uri": "https://localhost:8080/",
          "height": 1000
        },
        "id": "f86c6bec",
        "outputId": "1fe6b6c1-701a-4919-9216-cf58c09683d0"
      },
      "outputs": [
        {
          "output_type": "stream",
          "name": "stdout",
          "text": [
            "\n",
            "Before normalizing first image:\n",
            "[[  0   0   0   0   0   0   0   0   0   0   0   0   0   0   0   0   0   0\n",
            "    0   0   0   0   0   0   0   0   0   0]\n",
            " [  0   0   0   0   0   0   0   0   0   0   0   0   0   0   0   0   0   0\n",
            "    0   0   0   0   0   0   0   0   0   0]\n",
            " [  0   0   0   0   0   0   0   0   0   0   0   0   0   0   0   0   0   0\n",
            "    0   0   0   0   0   0   0   0   0   0]\n",
            " [  0   0   0   0   0   0   0   0   0   0   0   0   0   0   0   0   0   0\n",
            "    0   0   0   0   0   0   0   0   0   0]\n",
            " [  0   0   0   0   0   0   0   0   0   0   0   0   0   0   0   0   0   0\n",
            "    0   0   0   0   0   0   0   0   0   0]\n",
            " [  0   0   0   0   0   0   0   0   0   0   0   0   3  18  18  18 126 136\n",
            "  175  26 166 255 247 127   0   0   0   0]\n",
            " [  0   0   0   0   0   0   0   0  30  36  94 154 170 253 253 253 253 253\n",
            "  225 172 253 242 195  64   0   0   0   0]\n",
            " [  0   0   0   0   0   0   0  49 238 253 253 253 253 253 253 253 253 251\n",
            "   93  82  82  56  39   0   0   0   0   0]\n",
            " [  0   0   0   0   0   0   0  18 219 253 253 253 253 253 198 182 247 241\n",
            "    0   0   0   0   0   0   0   0   0   0]\n",
            " [  0   0   0   0   0   0   0   0  80 156 107 253 253 205  11   0  43 154\n",
            "    0   0   0   0   0   0   0   0   0   0]\n",
            " [  0   0   0   0   0   0   0   0   0  14   1 154 253  90   0   0   0   0\n",
            "    0   0   0   0   0   0   0   0   0   0]\n",
            " [  0   0   0   0   0   0   0   0   0   0   0 139 253 190   2   0   0   0\n",
            "    0   0   0   0   0   0   0   0   0   0]\n",
            " [  0   0   0   0   0   0   0   0   0   0   0  11 190 253  70   0   0   0\n",
            "    0   0   0   0   0   0   0   0   0   0]\n",
            " [  0   0   0   0   0   0   0   0   0   0   0   0  35 241 225 160 108   1\n",
            "    0   0   0   0   0   0   0   0   0   0]\n",
            " [  0   0   0   0   0   0   0   0   0   0   0   0   0  81 240 253 253 119\n",
            "   25   0   0   0   0   0   0   0   0   0]\n",
            " [  0   0   0   0   0   0   0   0   0   0   0   0   0   0  45 186 253 253\n",
            "  150  27   0   0   0   0   0   0   0   0]\n",
            " [  0   0   0   0   0   0   0   0   0   0   0   0   0   0   0  16  93 252\n",
            "  253 187   0   0   0   0   0   0   0   0]\n",
            " [  0   0   0   0   0   0   0   0   0   0   0   0   0   0   0   0   0 249\n",
            "  253 249  64   0   0   0   0   0   0   0]\n",
            " [  0   0   0   0   0   0   0   0   0   0   0   0   0   0  46 130 183 253\n",
            "  253 207   2   0   0   0   0   0   0   0]\n",
            " [  0   0   0   0   0   0   0   0   0   0   0   0  39 148 229 253 253 253\n",
            "  250 182   0   0   0   0   0   0   0   0]\n",
            " [  0   0   0   0   0   0   0   0   0   0  24 114 221 253 253 253 253 201\n",
            "   78   0   0   0   0   0   0   0   0   0]\n",
            " [  0   0   0   0   0   0   0   0  23  66 213 253 253 253 253 198  81   2\n",
            "    0   0   0   0   0   0   0   0   0   0]\n",
            " [  0   0   0   0   0   0  18 171 219 253 253 253 253 195  80   9   0   0\n",
            "    0   0   0   0   0   0   0   0   0   0]\n",
            " [  0   0   0   0  55 172 226 253 253 253 253 244 133  11   0   0   0   0\n",
            "    0   0   0   0   0   0   0   0   0   0]\n",
            " [  0   0   0   0 136 253 253 253 212 135 132  16   0   0   0   0   0   0\n",
            "    0   0   0   0   0   0   0   0   0   0]\n",
            " [  0   0   0   0   0   0   0   0   0   0   0   0   0   0   0   0   0   0\n",
            "    0   0   0   0   0   0   0   0   0   0]\n",
            " [  0   0   0   0   0   0   0   0   0   0   0   0   0   0   0   0   0   0\n",
            "    0   0   0   0   0   0   0   0   0   0]\n",
            " [  0   0   0   0   0   0   0   0   0   0   0   0   0   0   0   0   0   0\n",
            "    0   0   0   0   0   0   0   0   0   0]]\n",
            "\n",
            "After normalizing first image:\n",
            "[[0.         0.         0.         0.         0.         0.\n",
            "  0.         0.         0.         0.         0.         0.\n",
            "  0.         0.         0.         0.         0.         0.\n",
            "  0.         0.         0.         0.         0.         0.\n",
            "  0.         0.         0.         0.        ]\n",
            " [0.         0.         0.         0.         0.         0.\n",
            "  0.         0.         0.         0.         0.         0.\n",
            "  0.         0.         0.         0.         0.         0.\n",
            "  0.         0.         0.         0.         0.         0.\n",
            "  0.         0.         0.         0.        ]\n",
            " [0.         0.         0.         0.         0.         0.\n",
            "  0.         0.         0.         0.         0.         0.\n",
            "  0.         0.         0.         0.         0.         0.\n",
            "  0.         0.         0.         0.         0.         0.\n",
            "  0.         0.         0.         0.        ]\n",
            " [0.         0.         0.         0.         0.         0.\n",
            "  0.         0.         0.         0.         0.         0.\n",
            "  0.         0.         0.         0.         0.         0.\n",
            "  0.         0.         0.         0.         0.         0.\n",
            "  0.         0.         0.         0.        ]\n",
            " [0.         0.         0.         0.         0.         0.\n",
            "  0.         0.         0.         0.         0.         0.\n",
            "  0.         0.         0.         0.         0.         0.\n",
            "  0.         0.         0.         0.         0.         0.\n",
            "  0.         0.         0.         0.        ]\n",
            " [0.         0.         0.         0.         0.         0.\n",
            "  0.         0.         0.         0.         0.         0.\n",
            "  0.01176471 0.07058824 0.07058824 0.07058824 0.49411765 0.53333333\n",
            "  0.68627451 0.10196078 0.65098039 1.         0.96862745 0.49803922\n",
            "  0.         0.         0.         0.        ]\n",
            " [0.         0.         0.         0.         0.         0.\n",
            "  0.         0.         0.11764706 0.14117647 0.36862745 0.60392157\n",
            "  0.66666667 0.99215686 0.99215686 0.99215686 0.99215686 0.99215686\n",
            "  0.88235294 0.6745098  0.99215686 0.94901961 0.76470588 0.25098039\n",
            "  0.         0.         0.         0.        ]\n",
            " [0.         0.         0.         0.         0.         0.\n",
            "  0.         0.19215686 0.93333333 0.99215686 0.99215686 0.99215686\n",
            "  0.99215686 0.99215686 0.99215686 0.99215686 0.99215686 0.98431373\n",
            "  0.36470588 0.32156863 0.32156863 0.21960784 0.15294118 0.\n",
            "  0.         0.         0.         0.        ]\n",
            " [0.         0.         0.         0.         0.         0.\n",
            "  0.         0.07058824 0.85882353 0.99215686 0.99215686 0.99215686\n",
            "  0.99215686 0.99215686 0.77647059 0.71372549 0.96862745 0.94509804\n",
            "  0.         0.         0.         0.         0.         0.\n",
            "  0.         0.         0.         0.        ]\n",
            " [0.         0.         0.         0.         0.         0.\n",
            "  0.         0.         0.31372549 0.61176471 0.41960784 0.99215686\n",
            "  0.99215686 0.80392157 0.04313725 0.         0.16862745 0.60392157\n",
            "  0.         0.         0.         0.         0.         0.\n",
            "  0.         0.         0.         0.        ]\n",
            " [0.         0.         0.         0.         0.         0.\n",
            "  0.         0.         0.         0.05490196 0.00392157 0.60392157\n",
            "  0.99215686 0.35294118 0.         0.         0.         0.\n",
            "  0.         0.         0.         0.         0.         0.\n",
            "  0.         0.         0.         0.        ]\n",
            " [0.         0.         0.         0.         0.         0.\n",
            "  0.         0.         0.         0.         0.         0.54509804\n",
            "  0.99215686 0.74509804 0.00784314 0.         0.         0.\n",
            "  0.         0.         0.         0.         0.         0.\n",
            "  0.         0.         0.         0.        ]\n",
            " [0.         0.         0.         0.         0.         0.\n",
            "  0.         0.         0.         0.         0.         0.04313725\n",
            "  0.74509804 0.99215686 0.2745098  0.         0.         0.\n",
            "  0.         0.         0.         0.         0.         0.\n",
            "  0.         0.         0.         0.        ]\n",
            " [0.         0.         0.         0.         0.         0.\n",
            "  0.         0.         0.         0.         0.         0.\n",
            "  0.1372549  0.94509804 0.88235294 0.62745098 0.42352941 0.00392157\n",
            "  0.         0.         0.         0.         0.         0.\n",
            "  0.         0.         0.         0.        ]\n",
            " [0.         0.         0.         0.         0.         0.\n",
            "  0.         0.         0.         0.         0.         0.\n",
            "  0.         0.31764706 0.94117647 0.99215686 0.99215686 0.46666667\n",
            "  0.09803922 0.         0.         0.         0.         0.\n",
            "  0.         0.         0.         0.        ]\n",
            " [0.         0.         0.         0.         0.         0.\n",
            "  0.         0.         0.         0.         0.         0.\n",
            "  0.         0.         0.17647059 0.72941176 0.99215686 0.99215686\n",
            "  0.58823529 0.10588235 0.         0.         0.         0.\n",
            "  0.         0.         0.         0.        ]\n",
            " [0.         0.         0.         0.         0.         0.\n",
            "  0.         0.         0.         0.         0.         0.\n",
            "  0.         0.         0.         0.0627451  0.36470588 0.98823529\n",
            "  0.99215686 0.73333333 0.         0.         0.         0.\n",
            "  0.         0.         0.         0.        ]\n",
            " [0.         0.         0.         0.         0.         0.\n",
            "  0.         0.         0.         0.         0.         0.\n",
            "  0.         0.         0.         0.         0.         0.97647059\n",
            "  0.99215686 0.97647059 0.25098039 0.         0.         0.\n",
            "  0.         0.         0.         0.        ]\n",
            " [0.         0.         0.         0.         0.         0.\n",
            "  0.         0.         0.         0.         0.         0.\n",
            "  0.         0.         0.18039216 0.50980392 0.71764706 0.99215686\n",
            "  0.99215686 0.81176471 0.00784314 0.         0.         0.\n",
            "  0.         0.         0.         0.        ]\n",
            " [0.         0.         0.         0.         0.         0.\n",
            "  0.         0.         0.         0.         0.         0.\n",
            "  0.15294118 0.58039216 0.89803922 0.99215686 0.99215686 0.99215686\n",
            "  0.98039216 0.71372549 0.         0.         0.         0.\n",
            "  0.         0.         0.         0.        ]\n",
            " [0.         0.         0.         0.         0.         0.\n",
            "  0.         0.         0.         0.         0.09411765 0.44705882\n",
            "  0.86666667 0.99215686 0.99215686 0.99215686 0.99215686 0.78823529\n",
            "  0.30588235 0.         0.         0.         0.         0.\n",
            "  0.         0.         0.         0.        ]\n",
            " [0.         0.         0.         0.         0.         0.\n",
            "  0.         0.         0.09019608 0.25882353 0.83529412 0.99215686\n",
            "  0.99215686 0.99215686 0.99215686 0.77647059 0.31764706 0.00784314\n",
            "  0.         0.         0.         0.         0.         0.\n",
            "  0.         0.         0.         0.        ]\n",
            " [0.         0.         0.         0.         0.         0.\n",
            "  0.07058824 0.67058824 0.85882353 0.99215686 0.99215686 0.99215686\n",
            "  0.99215686 0.76470588 0.31372549 0.03529412 0.         0.\n",
            "  0.         0.         0.         0.         0.         0.\n",
            "  0.         0.         0.         0.        ]\n",
            " [0.         0.         0.         0.         0.21568627 0.6745098\n",
            "  0.88627451 0.99215686 0.99215686 0.99215686 0.99215686 0.95686275\n",
            "  0.52156863 0.04313725 0.         0.         0.         0.\n",
            "  0.         0.         0.         0.         0.         0.\n",
            "  0.         0.         0.         0.        ]\n",
            " [0.         0.         0.         0.         0.53333333 0.99215686\n",
            "  0.99215686 0.99215686 0.83137255 0.52941176 0.51764706 0.0627451\n",
            "  0.         0.         0.         0.         0.         0.\n",
            "  0.         0.         0.         0.         0.         0.\n",
            "  0.         0.         0.         0.        ]\n",
            " [0.         0.         0.         0.         0.         0.\n",
            "  0.         0.         0.         0.         0.         0.\n",
            "  0.         0.         0.         0.         0.         0.\n",
            "  0.         0.         0.         0.         0.         0.\n",
            "  0.         0.         0.         0.        ]\n",
            " [0.         0.         0.         0.         0.         0.\n",
            "  0.         0.         0.         0.         0.         0.\n",
            "  0.         0.         0.         0.         0.         0.\n",
            "  0.         0.         0.         0.         0.         0.\n",
            "  0.         0.         0.         0.        ]\n",
            " [0.         0.         0.         0.         0.         0.\n",
            "  0.         0.         0.         0.         0.         0.\n",
            "  0.         0.         0.         0.         0.         0.\n",
            "  0.         0.         0.         0.         0.         0.\n",
            "  0.         0.         0.         0.        ]]\n",
            "\n",
            "Shapes of Datasets \n",
            "\n",
            "x_train size: (60000, 28, 28)\n",
            "y_train size: (60000, 10)\n",
            "x_test size: (10000, 28, 28)\n",
            "y_test size: (10000, 10)\n",
            "\n",
            "Visualising of Datasets \n",
            "\n"
          ]
        },
        {
          "output_type": "display_data",
          "data": {
            "text/plain": [
              "<Figure size 400x200 with 10 Axes>"
            ],
            "image/png": "[encoded data removed]"
          },
          "metadata": {}
        }
      ],
      "source": [
        "# load data and split it to train, test\n",
        "def load_images_and_labels(file_path, image=False, label=False):\n",
        "    if image:\n",
        "        with open(file_path, \"rb\") as file:\n",
        "            file.read(16)\n",
        "            binary_data = file.read()\n",
        "        numpy_data = np.frombuffer(binary_data, dtype=np.uint8)\n",
        "        num_images = numpy_data.size // 784\n",
        "        data = numpy_data.reshape(num_images, 784)\n",
        "        return (data)\n",
        "\n",
        "    if label:\n",
        "        with open(file_path, \"rb\") as file:\n",
        "            file.read(8)\n",
        "            binary_data = file.read()\n",
        "        numpy_data = np.frombuffer(binary_data, dtype=np.uint8)\n",
        "        return (numpy_data)\n",
        "\n",
        "# Define the data paths as a list\n",
        "list_data_path = [\n",
        "    '/content/drive/MyDrive/train-images.idx3-ubyte',\n",
        "    '/content/drive/MyDrive/train-labels.idx1-ubyte',\n",
        "    '/content/drive/MyDrive/t10k-images.idx3-ubyte',\n",
        "    '/content/drive/MyDrive/t10k-labels.idx1-ubyte'\n",
        "]\n",
        "\n",
        "\n",
        "# Split the Data\n",
        "x_train = load_images_and_labels(list_data_path[0], image=True, label=False)\n",
        "y_train = load_images_and_labels(list_data_path[1], image=False, label=True)\n",
        "x_test = load_images_and_labels(list_data_path[2], image=True, label=False)\n",
        "y_test = load_images_and_labels(list_data_path[3], image=False, label=True)\n",
        "\n",
        "\n",
        "# Resizing the Data\n",
        "x_train = x_train.reshape(x_train.shape[0], 28,28)\n",
        "x_test = x_test.reshape(x_test.shape[0], 28,28)\n",
        "\n",
        "\n",
        "# Normalize the Data\n",
        "print(f\"\\nBefore normalizing first image:\\n{x_train[0]}\")\n",
        "x_train = x_train / 255.0\n",
        "x_test = x_test / 255.0\n",
        "print(f\"\\nAfter normalizing first image:\\n{x_train[0]}\")\n",
        "\n",
        "\n",
        "# Labelling Data,\n",
        "y_train = to_categorical(y_train, 10)\n",
        "y_test = to_categorical(y_test, 10)\n",
        "\n",
        "\n",
        "# Dimensions of Data\n",
        "print(\"\\nShapes of Datasets \\n\")\n",
        "print(f\"x_train size: {x_train.shape}\\ny_train size: {y_train.shape}\")\n",
        "print(f\"x_test size: {x_test.shape}\\ny_test size: {y_test.shape}\")\n",
        "\n",
        "\n",
        "# Visualize the Data\n",
        "print(\"\\nVisualising of Datasets \\n\")\n",
        "figure, axis = plt.subplots(2, 5, figsize=(4,2))\n",
        "axis = axis.ravel()\n",
        "for i in range(10):\n",
        "    axis[i].imshow(x_train[i].reshape(28,28), cmap=\"gray\")\n",
        "    axis[i].axis(\"off\")\n",
        "plt.show()"
      ]
    },
    {
      "cell_type": "markdown",
      "id": "8382eabf",
      "metadata": {
        "papermill": {
          "duration": 0.010783,
          "end_time": "2024-09-26T09:47:12.517786",
          "exception": false,
          "start_time": "2024-09-26T09:47:12.507003",
          "status": "completed"
        },
        "tags": [],
        "id": "8382eabf"
      },
      "source": [
        "### Building the Model"
      ]
    },
    {
      "cell_type": "code",
      "execution_count": 4,
      "id": "e9c8d1f4",
      "metadata": {
        "execution": {
          "iopub.execute_input": "2024-09-26T09:47:12.531978Z",
          "iopub.status.busy": "2024-09-26T09:47:12.531569Z",
          "iopub.status.idle": "2024-09-26T09:47:12.707204Z",
          "shell.execute_reply": "2024-09-26T09:47:12.706099Z"
        },
        "papermill": {
          "duration": 0.185759,
          "end_time": "2024-09-26T09:47:12.709685",
          "exception": false,
          "start_time": "2024-09-26T09:47:12.523926",
          "status": "completed"
        },
        "tags": [],
        "id": "e9c8d1f4",
        "colab": {
          "base_uri": "https://localhost:8080/",
          "height": 664
        },
        "outputId": "e46bb820-eeaf-4808-998f-dc16f26055f6"
      },
      "outputs": [
        {
          "output_type": "stream",
          "name": "stderr",
          "text": [
            "/usr/local/lib/python3.12/dist-packages/keras/src/layers/convolutional/base_conv.py:113: UserWarning: Do not pass an `input_shape`/`input_dim` argument to a layer. When using Sequential models, prefer using an `Input(shape)` object as the first layer in the model instead.\n",
            "  super().__init__(activity_regularizer=activity_regularizer, **kwargs)\n"
          ]
        },
        {
          "output_type": "display_data",
          "data": {
            "text/plain": [
              "\u001b[1mModel: \"sequential\"\u001b[0m\n"
            ],
            "text/html": [
              "<pre style=\"white-space:pre;overflow-x:auto;line-height:normal;font-family:Menlo,'DejaVu Sans Mono',consolas,'Courier New',monospace\"><span style=\"font-weight: bold\">Model: \"sequential\"</span>\n",
              "</pre>\n"
            ]
          },
          "metadata": {}
        },
        {
          "output_type": "display_data",
          "data": {
            "text/plain": [
              "┏━━━━━━━━━━━━━━━━━━━━━━━━━━━━━━━━━┳━━━━━━━━━━━━━━━━━━━━━━━━┳━━━━━━━━━━━━━━━┓\n",
              "┃\u001b[1m \u001b[0m\u001b[1mLayer (type)                   \u001b[0m\u001b[1m \u001b[0m┃\u001b[1m \u001b[0m\u001b[1mOutput Shape          \u001b[0m\u001b[1m \u001b[0m┃\u001b[1m \u001b[0m\u001b[1m      Param #\u001b[0m\u001b[1m \u001b[0m┃\n",
              "┡━━━━━━━━━━━━━━━━━━━━━━━━━━━━━━━━━╇━━━━━━━━━━━━━━━━━━━━━━━━╇━━━━━━━━━━━━━━━┩\n",
              "│ conv2d (\u001b[38;5;33mConv2D\u001b[0m)                 │ (\u001b[38;5;45mNone\u001b[0m, \u001b[38;5;34m26\u001b[0m, \u001b[38;5;34m26\u001b[0m, \u001b[38;5;34m32\u001b[0m)     │           \u001b[38;5;34m320\u001b[0m │\n",
              "├─────────────────────────────────┼────────────────────────┼───────────────┤\n",
              "│ max_pooling2d (\u001b[38;5;33mMaxPooling2D\u001b[0m)    │ (\u001b[38;5;45mNone\u001b[0m, \u001b[38;5;34m13\u001b[0m, \u001b[38;5;34m13\u001b[0m, \u001b[38;5;34m32\u001b[0m)     │             \u001b[38;5;34m0\u001b[0m │\n",
              "├─────────────────────────────────┼────────────────────────┼───────────────┤\n",
              "│ dropout (\u001b[38;5;33mDropout\u001b[0m)               │ (\u001b[38;5;45mNone\u001b[0m, \u001b[38;5;34m13\u001b[0m, \u001b[38;5;34m13\u001b[0m, \u001b[38;5;34m32\u001b[0m)     │             \u001b[38;5;34m0\u001b[0m │\n",
              "├─────────────────────────────────┼────────────────────────┼───────────────┤\n",
              "│ conv2d_1 (\u001b[38;5;33mConv2D\u001b[0m)               │ (\u001b[38;5;45mNone\u001b[0m, \u001b[38;5;34m11\u001b[0m, \u001b[38;5;34m11\u001b[0m, \u001b[38;5;34m64\u001b[0m)     │        \u001b[38;5;34m18,496\u001b[0m │\n",
              "├─────────────────────────────────┼────────────────────────┼───────────────┤\n",
              "│ max_pooling2d_1 (\u001b[38;5;33mMaxPooling2D\u001b[0m)  │ (\u001b[38;5;45mNone\u001b[0m, \u001b[38;5;34m5\u001b[0m, \u001b[38;5;34m5\u001b[0m, \u001b[38;5;34m64\u001b[0m)       │             \u001b[38;5;34m0\u001b[0m │\n",
              "├─────────────────────────────────┼────────────────────────┼───────────────┤\n",
              "│ dropout_1 (\u001b[38;5;33mDropout\u001b[0m)             │ (\u001b[38;5;45mNone\u001b[0m, \u001b[38;5;34m5\u001b[0m, \u001b[38;5;34m5\u001b[0m, \u001b[38;5;34m64\u001b[0m)       │             \u001b[38;5;34m0\u001b[0m │\n",
              "├─────────────────────────────────┼────────────────────────┼───────────────┤\n",
              "│ conv2d_2 (\u001b[38;5;33mConv2D\u001b[0m)               │ (\u001b[38;5;45mNone\u001b[0m, \u001b[38;5;34m3\u001b[0m, \u001b[38;5;34m3\u001b[0m, \u001b[38;5;34m32\u001b[0m)       │        \u001b[38;5;34m18,464\u001b[0m │\n",
              "├─────────────────────────────────┼────────────────────────┼───────────────┤\n",
              "│ max_pooling2d_2 (\u001b[38;5;33mMaxPooling2D\u001b[0m)  │ (\u001b[38;5;45mNone\u001b[0m, \u001b[38;5;34m1\u001b[0m, \u001b[38;5;34m1\u001b[0m, \u001b[38;5;34m32\u001b[0m)       │             \u001b[38;5;34m0\u001b[0m │\n",
              "├─────────────────────────────────┼────────────────────────┼───────────────┤\n",
              "│ dropout_2 (\u001b[38;5;33mDropout\u001b[0m)             │ (\u001b[38;5;45mNone\u001b[0m, \u001b[38;5;34m1\u001b[0m, \u001b[38;5;34m1\u001b[0m, \u001b[38;5;34m32\u001b[0m)       │             \u001b[38;5;34m0\u001b[0m │\n",
              "├─────────────────────────────────┼────────────────────────┼───────────────┤\n",
              "│ flatten (\u001b[38;5;33mFlatten\u001b[0m)               │ (\u001b[38;5;45mNone\u001b[0m, \u001b[38;5;34m32\u001b[0m)             │             \u001b[38;5;34m0\u001b[0m │\n",
              "├─────────────────────────────────┼────────────────────────┼───────────────┤\n",
              "│ dense (\u001b[38;5;33mDense\u001b[0m)                   │ (\u001b[38;5;45mNone\u001b[0m, \u001b[38;5;34m128\u001b[0m)            │         \u001b[38;5;34m4,224\u001b[0m │\n",
              "├─────────────────────────────────┼────────────────────────┼───────────────┤\n",
              "│ dropout_3 (\u001b[38;5;33mDropout\u001b[0m)             │ (\u001b[38;5;45mNone\u001b[0m, \u001b[38;5;34m128\u001b[0m)            │             \u001b[38;5;34m0\u001b[0m │\n",
              "├─────────────────────────────────┼────────────────────────┼───────────────┤\n",
              "│ dense_1 (\u001b[38;5;33mDense\u001b[0m)                 │ (\u001b[38;5;45mNone\u001b[0m, \u001b[38;5;34m64\u001b[0m)             │         \u001b[38;5;34m8,256\u001b[0m │\n",
              "├─────────────────────────────────┼────────────────────────┼───────────────┤\n",
              "│ dropout_4 (\u001b[38;5;33mDropout\u001b[0m)             │ (\u001b[38;5;45mNone\u001b[0m, \u001b[38;5;34m64\u001b[0m)             │             \u001b[38;5;34m0\u001b[0m │\n",
              "├─────────────────────────────────┼────────────────────────┼───────────────┤\n",
              "│ dense_2 (\u001b[38;5;33mDense\u001b[0m)                 │ (\u001b[38;5;45mNone\u001b[0m, \u001b[38;5;34m10\u001b[0m)             │           \u001b[38;5;34m650\u001b[0m │\n",
              "└─────────────────────────────────┴────────────────────────┴───────────────┘\n"
            ],
            "text/html": [
              "<pre style=\"white-space:pre;overflow-x:auto;line-height:normal;font-family:Menlo,'DejaVu Sans Mono',consolas,'Courier New',monospace\">┏━━━━━━━━━━━━━━━━━━━━━━━━━━━━━━━━━┳━━━━━━━━━━━━━━━━━━━━━━━━┳━━━━━━━━━━━━━━━┓\n",
              "┃<span style=\"font-weight: bold\"> Layer (type)                    </span>┃<span style=\"font-weight: bold\"> Output Shape           </span>┃<span style=\"font-weight: bold\">       Param # </span>┃\n",
              "┡━━━━━━━━━━━━━━━━━━━━━━━━━━━━━━━━━╇━━━━━━━━━━━━━━━━━━━━━━━━╇━━━━━━━━━━━━━━━┩\n",
              "│ conv2d (<span style=\"color: #0087ff; text-decoration-color: #0087ff\">Conv2D</span>)                 │ (<span style=\"color: #00d7ff; text-decoration-color: #00d7ff\">None</span>, <span style=\"color: #00af00; text-decoration-color: #00af00\">26</span>, <span style=\"color: #00af00; text-decoration-color: #00af00\">26</span>, <span style=\"color: #00af00; text-decoration-color: #00af00\">32</span>)     │           <span style=\"color: #00af00; text-decoration-color: #00af00\">320</span> │\n",
              "├─────────────────────────────────┼────────────────────────┼───────────────┤\n",
              "│ max_pooling2d (<span style=\"color: #0087ff; text-decoration-color: #0087ff\">MaxPooling2D</span>)    │ (<span style=\"color: #00d7ff; text-decoration-color: #00d7ff\">None</span>, <span style=\"color: #00af00; text-decoration-color: #00af00\">13</span>, <span style=\"color: #00af00; text-decoration-color: #00af00\">13</span>, <span style=\"color: #00af00; text-decoration-color: #00af00\">32</span>)     │             <span style=\"color: #00af00; text-decoration-color: #00af00\">0</span> │\n",
              "├─────────────────────────────────┼────────────────────────┼───────────────┤\n",
              "│ dropout (<span style=\"color: #0087ff; text-decoration-color: #0087ff\">Dropout</span>)               │ (<span style=\"color: #00d7ff; text-decoration-color: #00d7ff\">None</span>, <span style=\"color: #00af00; text-decoration-color: #00af00\">13</span>, <span style=\"color: #00af00; text-decoration-color: #00af00\">13</span>, <span style=\"color: #00af00; text-decoration-color: #00af00\">32</span>)     │             <span style=\"color: #00af00; text-decoration-color: #00af00\">0</span> │\n",
              "├─────────────────────────────────┼────────────────────────┼───────────────┤\n",
              "│ conv2d_1 (<span style=\"color: #0087ff; text-decoration-color: #0087ff\">Conv2D</span>)               │ (<span style=\"color: #00d7ff; text-decoration-color: #00d7ff\">None</span>, <span style=\"color: #00af00; text-decoration-color: #00af00\">11</span>, <span style=\"color: #00af00; text-decoration-color: #00af00\">11</span>, <span style=\"color: #00af00; text-decoration-color: #00af00\">64</span>)     │        <span style=\"color: #00af00; text-decoration-color: #00af00\">18,496</span> │\n",
              "├─────────────────────────────────┼────────────────────────┼───────────────┤\n",
              "│ max_pooling2d_1 (<span style=\"color: #0087ff; text-decoration-color: #0087ff\">MaxPooling2D</span>)  │ (<span style=\"color: #00d7ff; text-decoration-color: #00d7ff\">None</span>, <span style=\"color: #00af00; text-decoration-color: #00af00\">5</span>, <span style=\"color: #00af00; text-decoration-color: #00af00\">5</span>, <span style=\"color: #00af00; text-decoration-color: #00af00\">64</span>)       │             <span style=\"color: #00af00; text-decoration-color: #00af00\">0</span> │\n",
              "├─────────────────────────────────┼────────────────────────┼───────────────┤\n",
              "│ dropout_1 (<span style=\"color: #0087ff; text-decoration-color: #0087ff\">Dropout</span>)             │ (<span style=\"color: #00d7ff; text-decoration-color: #00d7ff\">None</span>, <span style=\"color: #00af00; text-decoration-color: #00af00\">5</span>, <span style=\"color: #00af00; text-decoration-color: #00af00\">5</span>, <span style=\"color: #00af00; text-decoration-color: #00af00\">64</span>)       │             <span style=\"color: #00af00; text-decoration-color: #00af00\">0</span> │\n",
              "├─────────────────────────────────┼────────────────────────┼───────────────┤\n",
              "│ conv2d_2 (<span style=\"color: #0087ff; text-decoration-color: #0087ff\">Conv2D</span>)               │ (<span style=\"color: #00d7ff; text-decoration-color: #00d7ff\">None</span>, <span style=\"color: #00af00; text-decoration-color: #00af00\">3</span>, <span style=\"color: #00af00; text-decoration-color: #00af00\">3</span>, <span style=\"color: #00af00; text-decoration-color: #00af00\">32</span>)       │        <span style=\"color: #00af00; text-decoration-color: #00af00\">18,464</span> │\n",
              "├─────────────────────────────────┼────────────────────────┼───────────────┤\n",
              "│ max_pooling2d_2 (<span style=\"color: #0087ff; text-decoration-color: #0087ff\">MaxPooling2D</span>)  │ (<span style=\"color: #00d7ff; text-decoration-color: #00d7ff\">None</span>, <span style=\"color: #00af00; text-decoration-color: #00af00\">1</span>, <span style=\"color: #00af00; text-decoration-color: #00af00\">1</span>, <span style=\"color: #00af00; text-decoration-color: #00af00\">32</span>)       │             <span style=\"color: #00af00; text-decoration-color: #00af00\">0</span> │\n",
              "├─────────────────────────────────┼────────────────────────┼───────────────┤\n",
              "│ dropout_2 (<span style=\"color: #0087ff; text-decoration-color: #0087ff\">Dropout</span>)             │ (<span style=\"color: #00d7ff; text-decoration-color: #00d7ff\">None</span>, <span style=\"color: #00af00; text-decoration-color: #00af00\">1</span>, <span style=\"color: #00af00; text-decoration-color: #00af00\">1</span>, <span style=\"color: #00af00; text-decoration-color: #00af00\">32</span>)       │             <span style=\"color: #00af00; text-decoration-color: #00af00\">0</span> │\n",
              "├─────────────────────────────────┼────────────────────────┼───────────────┤\n",
              "│ flatten (<span style=\"color: #0087ff; text-decoration-color: #0087ff\">Flatten</span>)               │ (<span style=\"color: #00d7ff; text-decoration-color: #00d7ff\">None</span>, <span style=\"color: #00af00; text-decoration-color: #00af00\">32</span>)             │             <span style=\"color: #00af00; text-decoration-color: #00af00\">0</span> │\n",
              "├─────────────────────────────────┼────────────────────────┼───────────────┤\n",
              "│ dense (<span style=\"color: #0087ff; text-decoration-color: #0087ff\">Dense</span>)                   │ (<span style=\"color: #00d7ff; text-decoration-color: #00d7ff\">None</span>, <span style=\"color: #00af00; text-decoration-color: #00af00\">128</span>)            │         <span style=\"color: #00af00; text-decoration-color: #00af00\">4,224</span> │\n",
              "├─────────────────────────────────┼────────────────────────┼───────────────┤\n",
              "│ dropout_3 (<span style=\"color: #0087ff; text-decoration-color: #0087ff\">Dropout</span>)             │ (<span style=\"color: #00d7ff; text-decoration-color: #00d7ff\">None</span>, <span style=\"color: #00af00; text-decoration-color: #00af00\">128</span>)            │             <span style=\"color: #00af00; text-decoration-color: #00af00\">0</span> │\n",
              "├─────────────────────────────────┼────────────────────────┼───────────────┤\n",
              "│ dense_1 (<span style=\"color: #0087ff; text-decoration-color: #0087ff\">Dense</span>)                 │ (<span style=\"color: #00d7ff; text-decoration-color: #00d7ff\">None</span>, <span style=\"color: #00af00; text-decoration-color: #00af00\">64</span>)             │         <span style=\"color: #00af00; text-decoration-color: #00af00\">8,256</span> │\n",
              "├─────────────────────────────────┼────────────────────────┼───────────────┤\n",
              "│ dropout_4 (<span style=\"color: #0087ff; text-decoration-color: #0087ff\">Dropout</span>)             │ (<span style=\"color: #00d7ff; text-decoration-color: #00d7ff\">None</span>, <span style=\"color: #00af00; text-decoration-color: #00af00\">64</span>)             │             <span style=\"color: #00af00; text-decoration-color: #00af00\">0</span> │\n",
              "├─────────────────────────────────┼────────────────────────┼───────────────┤\n",
              "│ dense_2 (<span style=\"color: #0087ff; text-decoration-color: #0087ff\">Dense</span>)                 │ (<span style=\"color: #00d7ff; text-decoration-color: #00d7ff\">None</span>, <span style=\"color: #00af00; text-decoration-color: #00af00\">10</span>)             │           <span style=\"color: #00af00; text-decoration-color: #00af00\">650</span> │\n",
              "└─────────────────────────────────┴────────────────────────┴───────────────┘\n",
              "</pre>\n"
            ]
          },
          "metadata": {}
        },
        {
          "output_type": "display_data",
          "data": {
            "text/plain": [
              "\u001b[1m Total params: \u001b[0m\u001b[38;5;34m50,410\u001b[0m (196.91 KB)\n"
            ],
            "text/html": [
              "<pre style=\"white-space:pre;overflow-x:auto;line-height:normal;font-family:Menlo,'DejaVu Sans Mono',consolas,'Courier New',monospace\"><span style=\"font-weight: bold\"> Total params: </span><span style=\"color: #00af00; text-decoration-color: #00af00\">50,410</span> (196.91 KB)\n",
              "</pre>\n"
            ]
          },
          "metadata": {}
        },
        {
          "output_type": "display_data",
          "data": {
            "text/plain": [
              "\u001b[1m Trainable params: \u001b[0m\u001b[38;5;34m50,410\u001b[0m (196.91 KB)\n"
            ],
            "text/html": [
              "<pre style=\"white-space:pre;overflow-x:auto;line-height:normal;font-family:Menlo,'DejaVu Sans Mono',consolas,'Courier New',monospace\"><span style=\"font-weight: bold\"> Trainable params: </span><span style=\"color: #00af00; text-decoration-color: #00af00\">50,410</span> (196.91 KB)\n",
              "</pre>\n"
            ]
          },
          "metadata": {}
        },
        {
          "output_type": "display_data",
          "data": {
            "text/plain": [
              "\u001b[1m Non-trainable params: \u001b[0m\u001b[38;5;34m0\u001b[0m (0.00 B)\n"
            ],
            "text/html": [
              "<pre style=\"white-space:pre;overflow-x:auto;line-height:normal;font-family:Menlo,'DejaVu Sans Mono',consolas,'Courier New',monospace\"><span style=\"font-weight: bold\"> Non-trainable params: </span><span style=\"color: #00af00; text-decoration-color: #00af00\">0</span> (0.00 B)\n",
              "</pre>\n"
            ]
          },
          "metadata": {}
        }
      ],
      "source": [
        "# Build the model\n",
        "model = Sequential([\n",
        "    Conv2D(filters=32, kernel_size=(3,3), activation=\"relu\", input_shape=(28,28,1)),\n",
        "    MaxPooling2D(pool_size=(2,2)),\n",
        "    Dropout(0.1),\n",
        "\n",
        "    Conv2D(filters=64, kernel_size=(3,3), activation=\"relu\"),\n",
        "    MaxPooling2D(pool_size=(2,2)),\n",
        "    Dropout(0.1),\n",
        "\n",
        "    Conv2D(filters=32, kernel_size=(3,3), activation=\"relu\"),\n",
        "    MaxPooling2D(pool_size=(2,2)),\n",
        "    Dropout(0.1),\n",
        "\n",
        "    Flatten(),\n",
        "    Dense(units=128, activation=\"relu\"),\n",
        "    Dropout(0.1),\n",
        "    Dense(units=64, activation=\"relu\"),\n",
        "    Dropout(0.1),\n",
        "    Dense(units=10, activation=\"softmax\"),\n",
        "])\n",
        "\n",
        "model.summary()"
      ]
    },
    {
      "cell_type": "code",
      "execution_count": 5,
      "id": "10a0b7fa",
      "metadata": {
        "execution": {
          "iopub.execute_input": "2024-09-26T09:47:12.727104Z",
          "iopub.status.busy": "2024-09-26T09:47:12.726644Z",
          "iopub.status.idle": "2024-09-26T09:47:12.742110Z",
          "shell.execute_reply": "2024-09-26T09:47:12.740953Z"
        },
        "papermill": {
          "duration": 0.027208,
          "end_time": "2024-09-26T09:47:12.744707",
          "exception": false,
          "start_time": "2024-09-26T09:47:12.717499",
          "status": "completed"
        },
        "tags": [],
        "id": "10a0b7fa"
      },
      "outputs": [],
      "source": [
        "# Compile the Model\n",
        "model.compile(\n",
        "    optimizer=\"adam\",\n",
        "    loss=\"categorical_crossentropy\",\n",
        "    metrics=[\"accuracy\"]\n",
        ")"
      ]
    },
    {
      "cell_type": "code",
      "execution_count": 6,
      "id": "0f0c8366",
      "metadata": {
        "execution": {
          "iopub.execute_input": "2024-09-26T09:47:12.761489Z",
          "iopub.status.busy": "2024-09-26T09:47:12.761024Z",
          "iopub.status.idle": "2024-09-26T09:52:49.266619Z",
          "shell.execute_reply": "2024-09-26T09:52:49.265037Z"
        },
        "papermill": {
          "duration": 336.517292,
          "end_time": "2024-09-26T09:52:49.269570",
          "exception": false,
          "start_time": "2024-09-26T09:47:12.752278",
          "status": "completed"
        },
        "tags": [],
        "id": "0f0c8366",
        "colab": {
          "base_uri": "https://localhost:8080/"
        },
        "outputId": "cf8e6e83-4c48-4db9-b4e8-e37d16793117"
      },
      "outputs": [
        {
          "output_type": "stream",
          "name": "stdout",
          "text": [
            "Epoch 1/10\n",
            "\u001b[1m1688/1688\u001b[0m \u001b[32m━━━━━━━━━━━━━━━━━━━━\u001b[0m\u001b[37m\u001b[0m \u001b[1m59s\u001b[0m 33ms/step - accuracy: 0.7435 - loss: 0.7673 - val_accuracy: 0.9748 - val_loss: 0.0879\n",
            "Epoch 2/10\n",
            "\u001b[1m1688/1688\u001b[0m \u001b[32m━━━━━━━━━━━━━━━━━━━━\u001b[0m\u001b[37m\u001b[0m \u001b[1m78s\u001b[0m 31ms/step - accuracy: 0.9535 - loss: 0.1512 - val_accuracy: 0.9812 - val_loss: 0.0635\n",
            "Epoch 3/10\n",
            "\u001b[1m1688/1688\u001b[0m \u001b[32m━━━━━━━━━━━━━━━━━━━━\u001b[0m\u001b[37m\u001b[0m \u001b[1m82s\u001b[0m 31ms/step - accuracy: 0.9653 - loss: 0.1189 - val_accuracy: 0.9847 - val_loss: 0.0517\n",
            "Epoch 4/10\n",
            "\u001b[1m1688/1688\u001b[0m \u001b[32m━━━━━━━━━━━━━━━━━━━━\u001b[0m\u001b[37m\u001b[0m \u001b[1m83s\u001b[0m 32ms/step - accuracy: 0.9742 - loss: 0.0867 - val_accuracy: 0.9860 - val_loss: 0.0454\n",
            "Epoch 5/10\n",
            "\u001b[1m1688/1688\u001b[0m \u001b[32m━━━━━━━━━━━━━━━━━━━━\u001b[0m\u001b[37m\u001b[0m \u001b[1m53s\u001b[0m 32ms/step - accuracy: 0.9764 - loss: 0.0787 - val_accuracy: 0.9870 - val_loss: 0.0479\n",
            "Epoch 6/10\n",
            "\u001b[1m1688/1688\u001b[0m \u001b[32m━━━━━━━━━━━━━━━━━━━━\u001b[0m\u001b[37m\u001b[0m \u001b[1m84s\u001b[0m 33ms/step - accuracy: 0.9779 - loss: 0.0717 - val_accuracy: 0.9888 - val_loss: 0.0423\n",
            "Epoch 7/10\n",
            "\u001b[1m1688/1688\u001b[0m \u001b[32m━━━━━━━━━━━━━━━━━━━━\u001b[0m\u001b[37m\u001b[0m \u001b[1m82s\u001b[0m 33ms/step - accuracy: 0.9802 - loss: 0.0648 - val_accuracy: 0.9887 - val_loss: 0.0426\n",
            "Epoch 8/10\n",
            "\u001b[1m1688/1688\u001b[0m \u001b[32m━━━━━━━━━━━━━━━━━━━━\u001b[0m\u001b[37m\u001b[0m \u001b[1m82s\u001b[0m 33ms/step - accuracy: 0.9823 - loss: 0.0553 - val_accuracy: 0.9892 - val_loss: 0.0401\n",
            "Epoch 9/10\n",
            "\u001b[1m1688/1688\u001b[0m \u001b[32m━━━━━━━━━━━━━━━━━━━━\u001b[0m\u001b[37m\u001b[0m \u001b[1m82s\u001b[0m 33ms/step - accuracy: 0.9829 - loss: 0.0553 - val_accuracy: 0.9902 - val_loss: 0.0402\n",
            "Epoch 10/10\n",
            "\u001b[1m1688/1688\u001b[0m \u001b[32m━━━━━━━━━━━━━━━━━━━━\u001b[0m\u001b[37m\u001b[0m \u001b[1m81s\u001b[0m 32ms/step - accuracy: 0.9836 - loss: 0.0532 - val_accuracy: 0.9875 - val_loss: 0.0438\n",
            "Duration of training: 12.79 minute\n"
          ]
        }
      ],
      "source": [
        "# Train the Model\n",
        "time_1 = time.time()\n",
        "train = model.fit(\n",
        "    x_train, y_train,\n",
        "    epochs=10,\n",
        "    batch_size=32,\n",
        "    validation_split=0.1\n",
        ")\n",
        "time_2 = time.time()\n",
        "print(f\"Duration of training: {(time_2 - time_1) / 60:.2f} minute\")"
      ]
    },
    {
      "cell_type": "code",
      "execution_count": 13,
      "id": "92f51663",
      "metadata": {
        "execution": {
          "iopub.execute_input": "2024-09-26T09:52:50.439385Z",
          "iopub.status.busy": "2024-09-26T09:52:50.438884Z",
          "iopub.status.idle": "2024-09-26T09:52:50.963634Z",
          "shell.execute_reply": "2024-09-26T09:52:50.962538Z"
        },
        "papermill": {
          "duration": 1.081331,
          "end_time": "2024-09-26T09:52:50.966711",
          "exception": false,
          "start_time": "2024-09-26T09:52:49.885380",
          "status": "completed"
        },
        "tags": [],
        "id": "92f51663",
        "colab": {
          "base_uri": "https://localhost:8080/",
          "height": 487
        },
        "outputId": "8a64dfed-461c-4987-a36f-9e7dbd1efe62"
      },
      "outputs": [
        {
          "output_type": "display_data",
          "data": {
            "text/plain": [
              "<Figure size 1200x500 with 2 Axes>"
            ],
            "image/png": "[encoded data removed]"
          },
          "metadata": {}
        }
      ],
      "source": [
        "# Graphing the process\n",
        "plt.figure(figsize=(12, 5))\n",
        "\n",
        "# Loss plot\n",
        "plt.subplot(1, 2, 1)    #  row column, index\n",
        "plt.plot(train.history['loss'], label='Training Loss')\n",
        "plt.plot(train.history['val_loss'], label='Validation Loss')\n",
        "plt.xlabel('Epoch')\n",
        "plt.ylabel('Loss')\n",
        "plt.legend()\n",
        "plt.title('Loss')\n",
        "\n",
        "# Accuracy plot\n",
        "plt.subplot(1, 2, 2)\n",
        "plt.plot(train.history['accuracy'], label='Training Accuracy')\n",
        "plt.plot(train.history['val_accuracy'], label='Validation Accuracy')\n",
        "plt.xlabel('Epoch')\n",
        "plt.ylabel('Accuracy')\n",
        "plt.legend()\n",
        "plt.title('Accuracy')\n",
        "\n",
        "plt.show()"
      ]
    },
    {
      "cell_type": "code",
      "execution_count": 8,
      "id": "74c6d00e",
      "metadata": {
        "execution": {
          "iopub.execute_input": "2024-09-26T09:52:52.095208Z",
          "iopub.status.busy": "2024-09-26T09:52:52.094706Z",
          "iopub.status.idle": "2024-09-26T09:52:54.783708Z",
          "shell.execute_reply": "2024-09-26T09:52:54.782408Z"
        },
        "papermill": {
          "duration": 3.243437,
          "end_time": "2024-09-26T09:52:54.786295",
          "exception": false,
          "start_time": "2024-09-26T09:52:51.542858",
          "status": "completed"
        },
        "tags": [],
        "id": "74c6d00e",
        "colab": {
          "base_uri": "https://localhost:8080/"
        },
        "outputId": "1fecb771-5e53-4936-ff1d-faaacd405e02"
      },
      "outputs": [
        {
          "output_type": "stream",
          "name": "stdout",
          "text": [
            "\u001b[1m313/313\u001b[0m \u001b[32m━━━━━━━━━━━━━━━━━━━━\u001b[0m\u001b[37m\u001b[0m \u001b[1m3s\u001b[0m 8ms/step - accuracy: 0.9795 - loss: 0.0698\n",
            "accuracy rate: 0.9850\n",
            "loss rate: 0.0526\n"
          ]
        }
      ],
      "source": [
        "# Testing the Model\n",
        "loss, acc = model.evaluate(x_test, y_test)\n",
        "print(f\"accuracy rate: {acc:.4f}\\nloss rate: {loss:.4f}\")"
      ]
    },
    {
      "cell_type": "code",
      "source": [
        "model.save('digit_model.h5')\n",
        "print(\"Model saved successfully!\")"
      ],
      "metadata": {
        "colab": {
          "base_uri": "https://localhost:8080/"
        },
        "id": "TGEitqHh0ykU",
        "outputId": "461d48e1-9af4-48b5-e4df-fa25faa496fd"
      },
      "id": "TGEitqHh0ykU",
      "execution_count": 9,
      "outputs": [
        {
          "output_type": "stream",
          "name": "stderr",
          "text": [
            "WARNING:absl:You are saving your model as an HDF5 file via `model.save()` or `keras.saving.save_model(model)`. This file format is considered legacy. We recommend using instead the native Keras format, e.g. `model.save('my_model.keras')` or `keras.saving.save_model(model, 'my_model.keras')`. \n"
          ]
        },
        {
          "output_type": "stream",
          "name": "stdout",
          "text": [
            "Model saved successfully!\n"
          ]
        }
      ]
    },
    {
      "cell_type": "code",
      "source": [
        "from IPython.display import display, Javascript, Image\n",
        "from google.colab.output import eval_js\n",
        "import cv2\n",
        "import numpy as np\n",
        "from tensorflow.keras.models import load_model\n",
        "import PIL.Image\n",
        "from base64 import b64decode\n",
        "import io\n",
        "import matplotlib.pyplot as plt\n",
        "import warnings\n",
        "\n",
        "# Suppress the specific warning about metrics\n",
        "warnings.filterwarnings('ignore', category=UserWarning, module='tensorflow')\n",
        "\n",
        "# Load trained model\n",
        "model = load_model(\"/content/drive/MyDrive/digit_model.h5\")\n",
        "print(\"Model loaded successfully!\")\n",
        "\n",
        "# Helper function to capture image from webcam\n",
        "def take_photo(filename='photo.jpg', quality=0.8):\n",
        "    js = Javascript('''\n",
        "    async function takePhoto(quality) {\n",
        "      const div = document.createElement('div');\n",
        "      const capture = document.createElement('button');\n",
        "      capture.textContent = 'Capture';\n",
        "      capture.style.backgroundColor = '#4CAF50';\n",
        "      capture.style.border = 'none';\n",
        "      capture.style.color = 'white';\n",
        "      capture.style.padding = '15px 32px';\n",
        "      capture.style.textAlign = 'center';\n",
        "      capture.style.textDecoration = 'none';\n",
        "      capture.style.display = 'inline-block';\n",
        "      capture.style.fontSize = '16px';\n",
        "      capture.style.margin = '4px 2px';\n",
        "      capture.style.cursor = 'pointer';\n",
        "      capture.style.borderRadius = '12px';\n",
        "      div.appendChild(capture);\n",
        "\n",
        "      //instructions\n",
        "      const instructions = document.createElement('div');\n",
        "      instructions.innerHTML = '<p>Hold a handwritten digit in view, then click Capture</p>';\n",
        "      instructions.style.marginBottom = '10px';\n",
        "      div.appendChild(instructions);\n",
        "\n",
        "      //a visual guide/frame for positioning the digit\n",
        "      const guideDiv = document.createElement('div');\n",
        "      guideDiv.style.position = 'relative';\n",
        "      guideDiv.style.width = 'fit-content';\n",
        "      guideDiv.style.margin = '0 auto';\n",
        "\n",
        "      const video = document.createElement('video');\n",
        "      video.style.display = 'block';\n",
        "      video.style.width = '640px';\n",
        "      video.style.height = '480px';\n",
        "\n",
        "      const overlay = document.createElement('div');\n",
        "      overlay.style.position = 'absolute';\n",
        "      overlay.style.top = '50%';\n",
        "      overlay.style.left = '50%';\n",
        "      overlay.style.width = '200px';\n",
        "      overlay.style.height = '200px';\n",
        "      overlay.style.border = '3px dashed green';\n",
        "      overlay.style.transform = 'translate(-50%, -50%)';\n",
        "      overlay.style.pointerEvents = 'none';\n",
        "\n",
        "      guideDiv.appendChild(video);\n",
        "      guideDiv.appendChild(overlay);\n",
        "      div.appendChild(guideDiv);\n",
        "\n",
        "      const stream = await navigator.mediaDevices.getUserMedia({video: true});\n",
        "\n",
        "      document.body.appendChild(div);\n",
        "      video.srcObject = stream;\n",
        "      await video.play();\n",
        "\n",
        "      // Resize output to fit the video element\n",
        "      google.colab.output.setIframeHeight(document.documentElement.scrollHeight, true);\n",
        "\n",
        "      // Wait for Capture button\n",
        "      await new Promise((resolve) => capture.onclick = resolve);\n",
        "\n",
        "      const canvas = document.createElement('canvas');\n",
        "      canvas.width = video.videoWidth;\n",
        "      canvas.height = video.videoHeight;\n",
        "      canvas.getContext('2d').drawImage(video, 0, 0);\n",
        "\n",
        "      //second canvas with just the ROI for preview\n",
        "      const roiCanvas = document.createElement('canvas');\n",
        "      const centerX = video.videoWidth / 2;\n",
        "      const centerY = video.videoHeight / 2;\n",
        "      const roiSize = 200 * (video.videoWidth / 640); // Scale based on video size\n",
        "\n",
        "      roiCanvas.width = roiSize;\n",
        "      roiCanvas.height = roiSize;\n",
        "      roiCanvas.getContext('2d').drawImage(\n",
        "        video,\n",
        "        centerX - roiSize/2, centerY - roiSize/2, roiSize, roiSize,\n",
        "        0, 0, roiSize, roiSize\n",
        "      );\n",
        "\n",
        "      stream.getTracks().forEach(t => t.stop());\n",
        "      div.remove();\n",
        "\n",
        "      return {\n",
        "        full: canvas.toDataURL('image/jpeg', quality),\n",
        "        roi: roiCanvas.toDataURL('image/jpeg', quality)\n",
        "      };\n",
        "    }\n",
        "    ''')\n",
        "    display(js)\n",
        "    data = eval_js('takePhoto({})'.format(quality))\n",
        "\n",
        "    # Save both the full image and the ROI\n",
        "    binary = b64decode(data['full'].split(',')[1])\n",
        "    with open(filename, 'wb') as f:\n",
        "        f.write(binary)\n",
        "\n",
        "    roi_binary = b64decode(data['roi'].split(',')[1])\n",
        "    roi_filename = 'roi_' + filename\n",
        "    with open(roi_filename, 'wb') as f:\n",
        "        f.write(roi_binary)\n",
        "\n",
        "    return filename, roi_filename\n",
        "\n",
        "def preprocess_for_prediction(image_path):\n",
        "    \"\"\"Preprocess image for MNIST prediction with multiple methods\"\"\"\n",
        "    # Read the image\n",
        "    img = cv2.imread(image_path, cv2.IMREAD_GRAYSCALE)\n",
        "\n",
        "    # resize and normalize\n",
        "    basic = cv2.resize(img, (28, 28))\n",
        "    basic = 255 - basic  # Invert\n",
        "\n",
        "    # thresholding\n",
        "    _, thresh = cv2.threshold(img, 127, 255, cv2.THRESH_BINARY_INV)\n",
        "    thresh = cv2.resize(thresh, (28, 28))\n",
        "\n",
        "    # With adaptive thresholding\n",
        "    adaptive = cv2.adaptiveThreshold(img, 255, cv2.ADAPTIVE_THRESH_GAUSSIAN_C,\n",
        "                                    cv2.THRESH_BINARY_INV, 11, 2)\n",
        "    adaptive = cv2.resize(adaptive, (28, 28))\n",
        "\n",
        "    # Return all preprocessing methods as a list\n",
        "    methods = [basic, thresh, adaptive]\n",
        "    preprocessed = []\n",
        "\n",
        "    for method in methods:\n",
        "        # Normalize to [0,1]\n",
        "        norm = method.astype('float32') / 255.0\n",
        "        # Reshape for the model\n",
        "        reshaped = norm.reshape(1, 28, 28, 1)\n",
        "        preprocessed.append(reshaped)\n",
        "\n",
        "    return preprocessed\n",
        "\n",
        "def predict_digit_with_confidence(model, preprocessed_images):\n",
        "    \"\"\"Make predictions with multiple preprocessing methods and analyze confidence\"\"\"\n",
        "    results = []\n",
        "\n",
        "    for img in preprocessed_images:\n",
        "        # Make prediction\n",
        "        pred = model.predict(img, verbose=0)\n",
        "        digit = np.argmax(pred)\n",
        "        confidence = float(pred[0][digit])\n",
        "        results.append((digit, confidence, img))\n",
        "\n",
        "    # Sort by confidence\n",
        "    results.sort(key=lambda x: x[1], reverse=True)\n",
        "\n",
        "    # Return the highest confidence result\n",
        "    best_digit, best_confidence, best_img = results[0]\n",
        "    return best_digit, best_confidence, best_img\n",
        "\n",
        "def display_prediction_results(original_img, processed_img, digit, confidence):\n",
        "    \"\"\"Display the original image, processed image, and prediction results\"\"\"\n",
        "    plt.figure(figsize=(12, 4))\n",
        "\n",
        "    plt.subplot(1, 3, 1)\n",
        "    plt.imshow(PIL.Image.open(original_img))\n",
        "    plt.title(\"Captured Image\")\n",
        "    plt.axis('off')\n",
        "\n",
        "    plt.subplot(1, 3, 2)\n",
        "    plt.imshow(processed_img.reshape(28, 28), cmap='gray')\n",
        "    plt.title(\"Preprocessed for MNIST\")\n",
        "    plt.axis('off')\n",
        "\n",
        "    plt.subplot(1, 3, 3)\n",
        "    # Create a simple visualization of the prediction\n",
        "    plt.text(0.5, 0.5, str(digit), fontsize=120, ha='center')\n",
        "    plt.title(f\"Prediction: {digit} (Confidence: {confidence:.2%})\")\n",
        "    plt.axis('off')\n",
        "    plt.xlim(0, 1)\n",
        "    plt.ylim(0, 1)\n",
        "\n",
        "    plt.tight_layout()\n",
        "    plt.show()\n",
        "\n",
        "# Main function to capture and predict\n",
        "def capture_and_predict():\n",
        "    print(\"Initializing webcam...\")\n",
        "    # Capture image from webcam\n",
        "    filename, roi_filename = take_photo()\n",
        "    print(\"Image captured!\")\n",
        "\n",
        "    # Preprocess the ROI image with multiple methods\n",
        "    preprocessed_images = preprocess_for_prediction(roi_filename)\n",
        "\n",
        "    # Get the best prediction\n",
        "    digit, confidence, best_img = predict_digit_with_confidence(model, preprocessed_images)\n",
        "\n",
        "    print(f\"Predicted Digit: {digit}\")\n",
        "    print(f\"Confidence: {confidence:.2%}\")\n",
        "\n",
        "    # Display results\n",
        "    display_prediction_results(roi_filename, best_img, digit, confidence)\n",
        "\n",
        "    return digit, confidence\n",
        "\n",
        "# Run the function\n",
        "capture_and_predict()"
      ],
      "metadata": {
        "colab": {
          "base_uri": "https://localhost:8080/",
          "height": 528
        },
        "id": "4n8lfatW7xYj",
        "outputId": "1df6b2c6-8834-4933-d71f-6314c5a23e68"
      },
      "id": "4n8lfatW7xYj",
      "execution_count": 15,
      "outputs": [
        {
          "output_type": "stream",
          "name": "stderr",
          "text": [
            "WARNING:absl:Compiled the loaded model, but the compiled metrics have yet to be built. `model.compile_metrics` will be empty until you train or evaluate the model.\n"
          ]
        },
        {
          "output_type": "stream",
          "name": "stdout",
          "text": [
            "Model loaded successfully!\n",
            "Initializing webcam...\n"
          ]
        },
        {
          "output_type": "display_data",
          "data": {
            "text/plain": [
              "<IPython.core.display.Javascript object>"
            ],
            "application/javascript": [
              "\n",
              "    async function takePhoto(quality) {\n",
              "      const div = document.createElement('div');\n",
              "      const capture = document.createElement('button');\n",
              "      capture.textContent = 'Capture';\n",
              "      capture.style.backgroundColor = '#4CAF50';\n",
              "      capture.style.border = 'none';\n",
              "      capture.style.color = 'white';\n",
              "      capture.style.padding = '15px 32px';\n",
              "      capture.style.textAlign = 'center';\n",
              "      capture.style.textDecoration = 'none';\n",
              "      capture.style.display = 'inline-block';\n",
              "      capture.style.fontSize = '16px';\n",
              "      capture.style.margin = '4px 2px';\n",
              "      capture.style.cursor = 'pointer';\n",
              "      capture.style.borderRadius = '12px';\n",
              "      div.appendChild(capture);\n",
              "\n",
              "      //instructions\n",
              "      const instructions = document.createElement('div');\n",
              "      instructions.innerHTML = '<p>Hold a handwritten digit in view, then click Capture</p>';\n",
              "      instructions.style.marginBottom = '10px';\n",
              "      div.appendChild(instructions);\n",
              "\n",
              "      //a visual guide/frame for positioning the digit\n",
              "      const guideDiv = document.createElement('div');\n",
              "      guideDiv.style.position = 'relative';\n",
              "      guideDiv.style.width = 'fit-content';\n",
              "      guideDiv.style.margin = '0 auto';\n",
              "\n",
              "      const video = document.createElement('video');\n",
              "      video.style.display = 'block';\n",
              "      video.style.width = '640px';\n",
              "      video.style.height = '480px';\n",
              "\n",
              "      const overlay = document.createElement('div');\n",
              "      overlay.style.position = 'absolute';\n",
              "      overlay.style.top = '50%';\n",
              "      overlay.style.left = '50%';\n",
              "      overlay.style.width = '200px';\n",
              "      overlay.style.height = '200px';\n",
              "      overlay.style.border = '3px dashed green';\n",
              "      overlay.style.transform = 'translate(-50%, -50%)';\n",
              "      overlay.style.pointerEvents = 'none';\n",
              "\n",
              "      guideDiv.appendChild(video);\n",
              "      guideDiv.appendChild(overlay);\n",
              "      div.appendChild(guideDiv);\n",
              "\n",
              "      const stream = await navigator.mediaDevices.getUserMedia({video: true});\n",
              "\n",
              "      document.body.appendChild(div);\n",
              "      video.srcObject = stream;\n",
              "      await video.play();\n",
              "\n",
              "      // Resize output to fit the video element\n",
              "      google.colab.output.setIframeHeight(document.documentElement.scrollHeight, true);\n",
              "\n",
              "      // Wait for Capture button\n",
              "      await new Promise((resolve) => capture.onclick = resolve);\n",
              "\n",
              "      const canvas = document.createElement('canvas');\n",
              "      canvas.width = video.videoWidth;\n",
              "      canvas.height = video.videoHeight;\n",
              "      canvas.getContext('2d').drawImage(video, 0, 0);\n",
              "\n",
              "      //second canvas with just the ROI for preview\n",
              "      const roiCanvas = document.createElement('canvas');\n",
              "      const centerX = video.videoWidth / 2;\n",
              "      const centerY = video.videoHeight / 2;\n",
              "      const roiSize = 200 * (video.videoWidth / 640); // Scale based on video size\n",
              "\n",
              "      roiCanvas.width = roiSize;\n",
              "      roiCanvas.height = roiSize;\n",
              "      roiCanvas.getContext('2d').drawImage(\n",
              "        video,\n",
              "        centerX - roiSize/2, centerY - roiSize/2, roiSize, roiSize,\n",
              "        0, 0, roiSize, roiSize\n",
              "      );\n",
              "\n",
              "      stream.getTracks().forEach(t => t.stop());\n",
              "      div.remove();\n",
              "\n",
              "      return {\n",
              "        full: canvas.toDataURL('image/jpeg', quality),\n",
              "        roi: roiCanvas.toDataURL('image/jpeg', quality)\n",
              "      };\n",
              "    }\n",
              "    "
            ]
          },
          "metadata": {}
        },
        {
          "output_type": "stream",
          "name": "stdout",
          "text": [
            "Image captured!\n",
            "Predicted Digit: 9\n",
            "Confidence: 80.21%\n"
          ]
        },
        {
          "output_type": "display_data",
          "data": {
            "text/plain": [
              "<Figure size 1200x400 with 3 Axes>"
            ],
            "image/png": "[encoded data removed]"
          },
          "metadata": {}
        },
        {
          "output_type": "execute_result",
          "data": {
            "text/plain": [
              "(np.int64(9), 0.8020606637001038)"
            ]
          },
          "metadata": {},
          "execution_count": 15
        }
      ]
    }
  ],
  "metadata": {
    "kaggle": {
      "accelerator": "none",
      "dataSources": [
        {
          "datasetId": 102285,
          "sourceId": 242592,
          "sourceType": "datasetVersion"
        }
      ],
      "isGpuEnabled": false,
      "isInternetEnabled": false,
      "language": "python",
      "sourceType": "notebook"
    },
    "kernelspec": {
      "display_name": "Python 3",
      "language": "python",
      "name": "python3"
    },
    "language_info": {
      "codemirror_mode": {
        "name": "ipython",
        "version": 3
      },
      "file_extension": ".py",
      "mimetype": "text/x-python",
      "name": "python",
      "nbconvert_exporter": "python",
      "pygments_lexer": "ipython3",
      "version": "3.10.14"
    },
    "papermill": {
      "default_parameters": {},
      "duration": 376.82517,
      "end_time": "2024-09-26T09:53:08.996688",
      "environment_variables": {},
      "exception": null,
      "input_path": "__notebook__.ipynb",
      "output_path": "__notebook__.ipynb",
      "parameters": {},
      "start_time": "2024-09-26T09:46:52.171518",
      "version": "2.6.0"
    },
    "colab": {
      "provenance": []
    }
  },
  "nbformat": 4,
  "nbformat_minor": 5
}